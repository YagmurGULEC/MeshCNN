{
 "cells": [
  {
   "cell_type": "code",
   "execution_count": null,
   "id": "90c805d5",
   "metadata": {},
   "outputs": [],
   "source": [
    "import torch\n",
    "import numpy\n",
    "import matplotlib.pyplot as plt\n",
    "import os\n",
    "import re\n",
    "\n",
    "from google.colab import drive\n",
    "\n",
    "#mount to my google drive since I uploaded every file to google drive\n",
    "drive.mount('/content/gdrive',force_remount=True)\n",
    "\n",
    "#path of directory to the project folder\n",
    "PATH_OF_DATA= '/content/gdrive/MyDrive/MeshCNN'\n",
    "#the path to the train.py \n",
    "p=os.path.join(PATH_OF_DATA,'train.py')\n",
    "t=os.path.join(PATH_OF_DATA,'test.py')\n",
    "\n",
    "data_path=os.path.join(PATH_OF_DATA,'datasets','shrec_16')\n",
    "check_point=os.path.join(PATH_OF_DATA,'checkpoints')\n",
    "#start to run train.py \n",
    "!python $p \\\n",
    "--dataroot $data_path \\\n",
    "--ncf 64 128 256 256 \\\n",
    "--pool_res 600 450 300 180 \\\n",
    "--norm group \\\n",
    "--resblocks 1 \\\n",
    "--flip_edges 0.2 \\\n",
    "--slide_verts 0.2 \\\n",
    "--num_aug 20 \\\n",
    "--niter_decay 100\\\n",
    "--export_folder $PATH_OF_DATA/meshes \\\n",
    "--name $PATH_OF_DATA/$log_file \\\n",
    "--checkpoints_dir $check_point \\\n",
    "--l2_regularization 0.5\n"
   ]
  }
 ],
 "metadata": {
  "kernelspec": {
   "display_name": "Python 3 (ipykernel)",
   "language": "python",
   "name": "python3"
  },
  "language_info": {
   "codemirror_mode": {
    "name": "ipython",
    "version": 3
   },
   "file_extension": ".py",
   "mimetype": "text/x-python",
   "name": "python",
   "nbconvert_exporter": "python",
   "pygments_lexer": "ipython3",
   "version": "3.10.12"
  }
 },
 "nbformat": 4,
 "nbformat_minor": 5
}
